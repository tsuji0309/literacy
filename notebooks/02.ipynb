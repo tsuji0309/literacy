{
  "cells": [
    {
      "cell_type": "markdown",
      "source": [
        "# 2 アルゴリズムと計算量"
      ],
      "metadata": {
        "id": "XTzWBLS8WpoR"
      },
      "id": "XTzWBLS8WpoR"
    },
    {
      "cell_type": "markdown",
      "source": [],
      "metadata": {
        "id": "RkCOTt9_WpoW"
      },
      "id": "RkCOTt9_WpoW"
    },
    {
      "cell_type": "markdown",
      "source": [
        "## イントロダクション"
      ],
      "metadata": {
        "id": "jUrEuE27WpoX"
      },
      "id": "jUrEuE27WpoX"
    },
    {
      "cell_type": "markdown",
      "source": [],
      "metadata": {
        "id": "kpd_KwoJWpoY"
      },
      "id": "kpd_KwoJWpoY"
    },
    {
      "cell_type": "markdown",
      "source": [
        "### 概要"
      ],
      "metadata": {
        "id": "a9Vy-R3LWpoY"
      },
      "id": "a9Vy-R3LWpoY"
    },
    {
      "cell_type": "markdown",
      "source": [
        "\n",
        "アルゴリズムの性能を調べられるようになりたい。御利益の例：一つの問題を解くのに複数のアルゴリズムがあるときに，良いものを選べるようになる。\n",
        "\n",
        "1.  例：$1+2+\\dots+n$\n",
        "2.  $O(n)$？\n",
        "3.  現実？\n",
        "    1.  CPython\n",
        "    2.  PyPy（約2倍）\n",
        "    3.  C++（約10倍）\n",
        "        1.  **（罠あり）** AIで翻訳\n",
        "        2.  **（注意点あり）** Clang\n",
        "    4.  実験と本番\n",
        "4.  RAMモデル"
      ],
      "metadata": {
        "id": "Wq9zqmX3WpoY"
      },
      "id": "Wq9zqmX3WpoY"
    },
    {
      "cell_type": "markdown",
      "source": [
        "### 問題"
      ],
      "metadata": {
        "id": "trd4mvAWWpoZ"
      },
      "id": "trd4mvAWWpoZ"
    },
    {
      "cell_type": "markdown",
      "source": [
        "\n",
        "正の整数 $n$ が入力されたら，$1+\\dots+n$ の結果を出力するプログラムを作る。「$n(n+1)/2$ では？」という疑問には後で答える。この問題は，オンラインジャッジではなく，自分で目で見てジャッジする。\n",
        "\n",
        "入力例を作る。"
      ],
      "metadata": {
        "id": "QcG5UXRPWpoa"
      },
      "id": "QcG5UXRPWpoa"
    },
    {
      "cell_type": "code",
      "execution_count": 1,
      "metadata": {
        "id": "oDqsBsQ7Wpob",
        "outputId": "a11d694b-6ad7-4ab4-a242-8a8eeb90da35",
        "colab": {
          "base_uri": "https://localhost:8080/"
        }
      },
      "outputs": [
        {
          "output_type": "stream",
          "name": "stdout",
          "text": [
            "Writing input.dat\n"
          ]
        }
      ],
      "source": [
        "%%writefile input.dat\n",
        "1\n",
        "4\n",
        "10\n",
        "100"
      ],
      "id": "oDqsBsQ7Wpob"
    },
    {
      "cell_type": "markdown",
      "source": [
        "期待される出力は次のとおり。\n",
        "\n",
        "    1\n",
        "    10\n",
        "    55\n",
        "    5050\n",
        "\n",
        "コードを書いて試してみる。"
      ],
      "metadata": {
        "id": "LgR2-Ua2Wpod"
      },
      "id": "LgR2-Ua2Wpod"
    },
    {
      "cell_type": "code",
      "execution_count": 4,
      "metadata": {
        "id": "fwPbVzhAWpod",
        "outputId": "a5703e84-9277-496d-8cc3-8a0f07c41f39",
        "colab": {
          "base_uri": "https://localhost:8080/"
        }
      },
      "outputs": [
        {
          "output_type": "stream",
          "name": "stdout",
          "text": [
            "Overwriting sum.py\n"
          ]
        }
      ],
      "source": [
        "%%writefile sum.py\n",
        "# 本体\n",
        "def f(n):\n",
        "  s = 0\n",
        "  for i in range(n+1):\n",
        "    s += i\n",
        "  return s\n",
        "\n",
        "# データの入力（第1回の資料を参照）\n",
        "import sys\n",
        "A = map(int, sys.stdin.read().split())\n",
        "\n",
        "# 出力\n",
        "for n in A:\n",
        "  print(f(n))"
      ],
      "id": "fwPbVzhAWpod"
    },
    {
      "cell_type": "markdown",
      "source": [
        "実行する。"
      ],
      "metadata": {
        "id": "1yyTeKWFWpoe"
      },
      "id": "1yyTeKWFWpoe"
    },
    {
      "cell_type": "code",
      "execution_count": 5,
      "metadata": {
        "id": "VP-gj9mfWpoe",
        "outputId": "1b759993-5b30-46e8-9780-8108d0ab1746",
        "colab": {
          "base_uri": "https://localhost:8080/"
        }
      },
      "outputs": [
        {
          "output_type": "stream",
          "name": "stdout",
          "text": [
            "1\n",
            "10\n",
            "55\n",
            "5050\n"
          ]
        }
      ],
      "source": [
        "!python3 sum.py < input.dat"
      ],
      "id": "VP-gj9mfWpoe"
    },
    {
      "cell_type": "markdown",
      "source": [
        "> つねづね学生たちに言うのだが，演習というものは，あたえられた問題が解けたところから始まるのである。これが言い過ぎなら，問題が解けたところで道は半分。残りの半分こそ重要，と言い直してもよい。　江沢洋・中村孔一・山本義隆『演習詳解力学』（筑摩書房, 第2版, 2022）\n",
        "\n",
        "<img src=\"https://ndlsearch.ndl.go.jp/thumbnail/9784480511188.jpg\" width=\"100\"/>"
      ],
      "metadata": {
        "id": "mAal7caXWpoe"
      },
      "id": "mAal7caXWpoe"
    },
    {
      "cell_type": "markdown",
      "source": [
        "### アルゴリズム解析"
      ],
      "metadata": {
        "id": "SDi8Sq1CWpoe"
      },
      "id": "SDi8Sq1CWpoe"
    },
    {
      "cell_type": "markdown",
      "source": [
        "\n",
        "アルゴリズムの性能を次の二つの観点で調べる。\n",
        "\n",
        "-   時間計算量\n",
        "-   空間計算量\n",
        "\n",
        "この講義では主に時間計算量を扱う。時間計算量の意味で「計算量」ということもある。\n",
        "\n",
        "`f(n)`の処理における計算の回数は次のとおり。\n",
        "\n",
        "| 行  | 命令                 | コスト | 回数 |\n",
        "|-----|----------------------|--------|------|\n",
        "| 1   | `s = 0`              | $c_1$  | $1$  |\n",
        "| 2   | `for i in range(n):` | $c_2$  | $n$  |\n",
        "| 3   | `s += i`             | $c_3$  | $n$  |\n",
        "| 4   | `return s`           | $c_4$  | $1$  |\n",
        "\n",
        "それぞれの実行時間を $c_1,\\dots, c_4$ とすると，全体の実行時間は$$c_1 + c_2n + c_3n + c_4=(c_2+c_3)n+(c_1+c_4)$$である。$n$ が大きくなると，$n$ に比例する項が最も大きくなるから，実行時間は $n$ に比例すると言える。その傾向を $\\Theta(n)$ と表す。（曖昧に）$O(n)$ と表すこともある。\n",
        "\n",
        "$n$ が大きくなったときの振る舞いを表す漸近記法には，$O, \\Theta, \\Omega, o, \\omega$ がある。これらは計算量を表すのに使える漸近記法であって，計算量だけのための記法ではない。大ざっぱな意味を表にまとめる（[CLRSの図3.1](https://archive.org/details/thomas-h.-cormen-charles-e.-leiserson-ronald-l.-rivest-clifford-stein-introducti/page/54/mode/1up)や[Skienaの図2.3](https://archive.org/details/2008-book-the-algorithm-design-manual/page/36/mode/1up)も参照）。\n",
        "\n",
        "| 漸近記法    | 意味                |\n",
        "|-------------|---------------------|\n",
        "| $O(n)$      | 増え方は $n$ 以下   |\n",
        "| $\\Theta(n)$ | 増え方は $n$ と同じ |\n",
        "| $\\Omega(n)$ | 増え方は $n$ 以上   |\n",
        "| $o(n)$      | 増え方は $n$ 未満   |\n",
        "| $\\omega(n)$ | 増え方は $n$ 超過   |\n",
        "\n",
        "$O$ は，$n$ が大きくなったときの計算量の増加の仕方を表すのに便利な記号である。例えば，$n$ が比較的小さいときは，$10n+100\\in O(n)$ は $n^2\\in O(n^2)$ より大きいが，1次式と2次式では，最終的には2次式のほうが大きくなる。"
      ],
      "metadata": {
        "id": "MNxGWbWTWpof"
      },
      "id": "MNxGWbWTWpof"
    },
    {
      "cell_type": "code",
      "execution_count": null,
      "metadata": {
        "id": "mZzFmF1fWpof"
      },
      "outputs": [],
      "source": [
        "from sympy import *\n",
        "from sympy.plotting import plot\n",
        "\n",
        "var('n')\n",
        "plot(10 * n + 100, n**2, (n, 0, 20), legend=True);"
      ],
      "id": "mZzFmF1fWpof"
    },
    {
      "cell_type": "markdown",
      "source": [
        "**練習** 教科書p.45の関数を可視化し，順番を記憶する。"
      ],
      "metadata": {
        "id": "VBAS47jlWpof"
      },
      "id": "VBAS47jlWpof"
    },
    {
      "cell_type": "code",
      "execution_count": null,
      "metadata": {
        "id": "nUnGeAAIWpof"
      },
      "outputs": [],
      "source": [
        "var('n')\n",
        "plot(log(n), sqrt(n), n, n * log(n), n**2, 2**n, factorial(n), (n, 1, 4), legend=True);"
      ],
      "id": "nUnGeAAIWpof"
    },
    {
      "cell_type": "markdown",
      "source": [
        "♠正確な定義：$O(g(n))$ は，正の定数 $c, n_0$ が存在して，全ての $n>n_0$ に対して $0\\le f(n)\\le cg(n)$ であるような関数 $f(n)$ の集合である。\n",
        "\n",
        "♠論理式で書けば次のとおり。\n",
        "$$O(g(n))=\\left\\{f(n)\\mid\\exists c>0, n_0>0\\;\\left(\\forall n>n_0\\;\\left(0\\le f(n)\\le cg(n)\\right)\\right)\\right\\}$$"
      ],
      "metadata": {
        "id": "Visg2ndeWpof"
      },
      "id": "Visg2ndeWpof"
    },
    {
      "cell_type": "markdown",
      "source": [
        "#### $O$ について"
      ],
      "metadata": {
        "id": "G0nKo4liWpof"
      },
      "id": "G0nKo4liWpof"
    },
    {
      "cell_type": "markdown",
      "source": [
        "\n",
        "-   $n$ によらないものは $O(1)$。\n",
        "-   定数倍は無視できる。$O(2n) = O(n)$\n",
        "-   対数の底は無視できる（定数倍だから）。$O(\\log_2 n)=O(\\log n)=O(\\ln n)$\n",
        "-   「最も大きい」項だけを取り出してよい。$O(n^2 + 10000n) = O(n^2)$。あえて $n^2+10000n\\in O(n^3)$ と表す必要はないが，間違いではない。\n",
        "-   対象が不明だと議論が曖昧になる。$O(n+a)=O(n)$ で $O(n+m)\\neq O(n)$？\n",
        "-   $f(n) \\in O(g(n))$ の意味で $f(n) = O(g(n))$と表すこともある。$O(g(n))=f(n)$ と表すことはない。\n",
        "-   $2n^2+O(n)$ は，$2n^2$ に $O(n)$ の要素（例：$n+1$）が加えられたものを表す。例：$\\sin x=x-\\dfrac{x^3}{6}+\\dfrac{x^5}{123}+O(x^6)$。\n",
        "-   計算量が具体的なアルゴリズムの実行時間を表すとは限らない。$\\Theta(n^2)$ のアルゴリズムの実装が，$\\Theta(n)$ のアルゴリズムの実装より速いこともある。\n",
        "\n",
        "**練習** 正しいものを選べ。\n",
        "\n",
        "1.  $2n^2+1=O(n^2)$\n",
        "2.  $\\sqrt n=O(\\log n)$\n",
        "3.  $\\log n=O(\\sqrt n)$\n",
        "4.  $n^2(1+\\sqrt n)=O(n^2\\log n)$\n",
        "5.  $3n^2+\\sqrt n=O(n^2)$\n",
        "6.  $\\sqrt n\\log n=O(n)$\n",
        "7.  $\\log n=O(n^{-1/2})$"
      ],
      "metadata": {
        "id": "fTnpB3XOWpog"
      },
      "id": "fTnpB3XOWpog"
    },
    {
      "cell_type": "markdown",
      "source": [
        "### 実行時間の測定"
      ],
      "metadata": {
        "id": "0vVHVpDDWpog"
      },
      "id": "0vVHVpDDWpog"
    },
    {
      "cell_type": "markdown",
      "source": [
        "\n",
        "`f(n)`の実行時間は次のように計れる。\n",
        "\n",
        "``` python\n",
        "start = time.perf_counter() # 開始時刻\n",
        "f(n)\n",
        "end = time.perf_counter()   # 終了時刻\n",
        "end - start                 # 経過時間\n",
        "```\n",
        "\n",
        "後はAIに書かせてもよいだろう。\n",
        "\n",
        "> f(n)を1からnの整数の和を求める関数とする。Pythonで，f(n)の実行時間が，nが増加するとどう変化するかを調べたい。n=h, 2h,…, 10h，ただしh=10^6/10の場合の実行時間を計って，結果を標準出力に出力するコードと，結果を読み込んでプロットするコードを書いて。numpyは使わずstatisticsを使って。fはsumを使わず，for文で書いて。\n",
        "\n",
        "♠「numpyは使わずstatisticsを使って」は，後でPyPyを使うときに起こりうるトラブルを避ける知恵である。\n",
        "\n",
        "生成されるコードを修正した例を示す。"
      ],
      "metadata": {
        "id": "dET7cT2AWpog"
      },
      "id": "dET7cT2AWpog"
    },
    {
      "cell_type": "code",
      "execution_count": 6,
      "metadata": {
        "id": "0R1zq4DXWpog",
        "outputId": "615a0d5d-7624-45c4-b0fc-bffd29cb86cb",
        "colab": {
          "base_uri": "https://localhost:8080/"
        }
      },
      "outputs": [
        {
          "output_type": "stream",
          "name": "stdout",
          "text": [
            "Writing sum-bench.py\n"
          ]
        }
      ],
      "source": [
        "%%writefile sum-bench.py\n",
        "import time\n",
        "import statistics\n",
        "\n",
        "def f(n):\n",
        "  s = 0\n",
        "  for i in range(1, n + 1):\n",
        "    s += i\n",
        "  return s\n",
        "\n",
        "def measure_execution_times():\n",
        "  h = 10**6 // 10\n",
        "  results = []\n",
        "\n",
        "  for i in range(1, 11):\n",
        "    n = i * h\n",
        "    times = []\n",
        "    for _ in range(5):  # 同じnで5回実行して平均を取る\n",
        "      start = time.perf_counter()\n",
        "      f(n)\n",
        "      end = time.perf_counter()\n",
        "      times.append(end - start)\n",
        "    mean_time = statistics.mean(times)\n",
        "    print(f\"{n},{mean_time:.6f}\")\n",
        "    results.append((n, mean_time))\n",
        "\n",
        "if __name__ == \"__main__\":\n",
        "  measure_execution_times()"
      ],
      "id": "0R1zq4DXWpog"
    },
    {
      "cell_type": "markdown",
      "source": [
        "実行すると，結果が画面に表示される。"
      ],
      "metadata": {
        "id": "QXJIgjokWpog"
      },
      "id": "QXJIgjokWpog"
    },
    {
      "cell_type": "code",
      "execution_count": 7,
      "metadata": {
        "id": "0ozLCwd6Wpog",
        "outputId": "353b5ac2-8a24-4094-9717-f3e24e92d37d",
        "colab": {
          "base_uri": "https://localhost:8080/"
        }
      },
      "outputs": [
        {
          "output_type": "stream",
          "name": "stdout",
          "text": [
            "100000,0.005114\n",
            "200000,0.009775\n",
            "300000,0.016281\n",
            "400000,0.019981\n",
            "500000,0.025716\n",
            "600000,0.030646\n",
            "700000,0.038586\n",
            "800000,0.041995\n",
            "900000,0.046875\n",
            "1000000,0.051126\n"
          ]
        }
      ],
      "source": [
        "!python3 sum-bench.py"
      ],
      "id": "0ozLCwd6Wpog"
    },
    {
      "cell_type": "markdown",
      "source": [
        "リダイレクトを使って，結果をファイルに保存する。"
      ],
      "metadata": {
        "id": "LumLdRR0Wpog"
      },
      "id": "LumLdRR0Wpog"
    },
    {
      "cell_type": "code",
      "execution_count": 8,
      "metadata": {
        "id": "hvicJggOWpoh"
      },
      "outputs": [],
      "source": [
        "!python3 sum-bench.py > sum-bench.csv"
      ],
      "id": "hvicJggOWpoh"
    },
    {
      "cell_type": "markdown",
      "source": [
        "ファイルを読み込んで可視化する。"
      ],
      "metadata": {
        "id": "-23hUcMWWpoh"
      },
      "id": "-23hUcMWWpoh"
    },
    {
      "cell_type": "code",
      "execution_count": 9,
      "metadata": {
        "id": "05vskuJHWpoh",
        "outputId": "9a416d84-6e69-4afe-de98-ef9ffa452850",
        "colab": {
          "base_uri": "https://localhost:8080/",
          "height": 472
        }
      },
      "outputs": [
        {
          "output_type": "display_data",
          "data": {
            "text/plain": [
              "<Figure size 640x480 with 1 Axes>"
            ],
            "image/png": "[encoded data removed]"
          },
          "metadata": {}
        }
      ],
      "source": [
        "import matplotlib.pyplot as plt\n",
        "\n",
        "def load_data(file_path):\n",
        "  ns = []\n",
        "  times = []\n",
        "  with open(file_path, 'r') as f:\n",
        "    for line in f:\n",
        "      n_str, t_str = line.strip().split(',')\n",
        "      ns.append(int(n_str))\n",
        "      times.append(float(t_str))\n",
        "  return ns, times\n",
        "\n",
        "def plot(ns, times):\n",
        "  plt.plot(ns, times, marker='o')\n",
        "  plt.title(\"Execution Time of f(n) vs n\")\n",
        "  plt.xlabel(\"n\")\n",
        "  plt.ylabel(\"Execution Time (seconds)\")\n",
        "  plt.grid(True)\n",
        "  plt.show()\n",
        "\n",
        "def load_and_plot(file_path):\n",
        "  ns, times = load_data(file_path)\n",
        "  plot(ns, times)\n",
        "\n",
        "load_and_plot(\"sum-bench.csv\")"
      ],
      "id": "05vskuJHWpoh"
    },
    {
      "cell_type": "markdown",
      "source": [
        "考察できることはあるか。"
      ],
      "metadata": {
        "id": "LXoPtzNUWpoh"
      },
      "id": "LXoPtzNUWpoh"
    },
    {
      "cell_type": "markdown",
      "source": [
        "#### PyPyによる高速化"
      ],
      "metadata": {
        "id": "VoaLV49hWpoi"
      },
      "id": "VoaLV49hWpoi"
    },
    {
      "cell_type": "markdown",
      "source": [
        "\n",
        "PyPyをインストールする。"
      ],
      "metadata": {
        "id": "7mxl0D4BWpoi"
      },
      "id": "7mxl0D4BWpoi"
    },
    {
      "cell_type": "code",
      "execution_count": 10,
      "metadata": {
        "id": "ISjsdde5Wpoi",
        "outputId": "2bd65bfb-d85b-4431-d093-69728cf87aa8",
        "colab": {
          "base_uri": "https://localhost:8080/"
        }
      },
      "outputs": [
        {
          "output_type": "stream",
          "name": "stdout",
          "text": [
            "Processing triggers for man-db (2.10.2-1) ...\n"
          ]
        }
      ],
      "source": [
        "!apt-get install -y pypy3 | tail -n 1"
      ],
      "id": "ISjsdde5Wpoi"
    },
    {
      "cell_type": "markdown",
      "source": [
        "ベンチマークを実行し，結果を可視化する。"
      ],
      "metadata": {
        "id": "GXRFW746Wpoi"
      },
      "id": "GXRFW746Wpoi"
    },
    {
      "cell_type": "code",
      "execution_count": 11,
      "metadata": {
        "id": "zzV8Mz15Wpoj",
        "outputId": "b6724f17-4295-4391-e59c-66dc201feb66",
        "colab": {
          "base_uri": "https://localhost:8080/",
          "height": 472
        }
      },
      "outputs": [
        {
          "output_type": "display_data",
          "data": {
            "text/plain": [
              "<Figure size 640x480 with 1 Axes>"
            ],
            "image/png": "[encoded data removed]"
          },
          "metadata": {}
        }
      ],
      "source": [
        "!pypy3 sum-bench.py > sum-bench2.csv\n",
        "\n",
        "load_and_plot(\"sum-bench2.csv\")"
      ],
      "id": "zzV8Mz15Wpoj"
    },
    {
      "cell_type": "markdown",
      "source": [
        "考察できることはあるか。"
      ],
      "metadata": {
        "id": "7J3gL8lOWpoj"
      },
      "id": "7J3gL8lOWpoj"
    },
    {
      "cell_type": "markdown",
      "source": [
        "#### C++による高速化"
      ],
      "metadata": {
        "id": "uUtm521wWpoj"
      },
      "id": "uUtm521wWpoj"
    },
    {
      "cell_type": "markdown",
      "source": [
        "\n",
        "> 次のコードをC++に翻訳して<br>\n",
        "> （ここにPythonのコードを貼り付ける。）\n",
        "\n",
        "生成されるコードを修正した例を示す。"
      ],
      "metadata": {
        "id": "Q0-LT_zvWpoz"
      },
      "id": "Q0-LT_zvWpoz"
    },
    {
      "cell_type": "code",
      "execution_count": 15,
      "metadata": {
        "id": "QchnjWCZWpoz",
        "outputId": "f9e213c4-84fa-4943-b32a-a954ae53d1dd",
        "colab": {
          "base_uri": "https://localhost:8080/"
        }
      },
      "outputs": [
        {
          "output_type": "stream",
          "name": "stdout",
          "text": [
            "Overwriting sum-bench.cpp\n"
          ]
        }
      ],
      "source": [
        "%%writefile sum-bench.cpp\n",
        "#include <iostream>\n",
        "#include <vector>\n",
        "#include <chrono>\n",
        "#include <numeric>\n",
        "#include <iomanip>\n",
        "\n",
        "using namespace std;\n",
        "using namespace chrono;\n",
        "\n",
        "long long f(int n) {\n",
        "  long long s = 0;\n",
        "  for (int i = 1; i <= n; ++i) {\n",
        "    s += i;\n",
        "  }\n",
        "  return s;\n",
        "}\n",
        "\n",
        "int main() {\n",
        "  int h = 1000000 / 10;\n",
        "\n",
        "  for (int i = 1; i <= 10; ++i) {\n",
        "    int n = i * h;\n",
        "    vector<double> times;\n",
        "\n",
        "    for (int j = 0; j < 5; ++j) {\n",
        "      auto start = high_resolution_clock::now();\n",
        "      //f(n);\n",
        "      //cerr << f(n) << endl;\n",
        "      auto end = high_resolution_clock::now();\n",
        "      duration<double> elapsed = end - start;\n",
        "      times.push_back(elapsed.count());\n",
        "    }\n",
        "\n",
        "    double sum = accumulate(times.begin(), times.end(), 0.0);\n",
        "    double mean = sum / times.size();\n",
        "\n",
        "    cout << n << \",\" << fixed << setprecision(6) << mean << endl;\n",
        "  }\n",
        "\n",
        "  return 0;\n",
        "}"
      ],
      "id": "QchnjWCZWpoz"
    },
    {
      "cell_type": "markdown",
      "source": [
        "このコードには罠があるのだが，まずは実行してみよう。\n",
        "\n",
        "C++のコードは，実行前に**コンパイル**が必要である。コンパイルのためのプログラムを**コンパイラ**という。よく使われるコンパイラは次のとおり。\n",
        "\n",
        "-   GNU C++ Compiler（オープンソース。GCCということもあるが，GCCはGNUのC言語のコンパイラを表すこともあることに注意。コマンドは`g++`）\n",
        "-   <ruby>Clang<rp>（</rp><rt>クラン</rt><rp>）</rp> </ruby>（C language family frontend for LLVM。オープンソース。コマンドは`clang++`。♠macOSでは`g++`が`clang++`になる。）\n",
        "-   Microsoft Visual C++（Windows限定）"
      ],
      "metadata": {
        "id": "T2vECw06Wpoz"
      },
      "id": "T2vECw06Wpoz"
    },
    {
      "cell_type": "markdown",
      "source": [
        "##### GCC"
      ],
      "metadata": {
        "id": "HUBOjc6UWpoz"
      },
      "id": "HUBOjc6UWpoz"
    },
    {
      "cell_type": "markdown",
      "source": [
        "\n",
        "GCCを試す。"
      ],
      "metadata": {
        "id": "ndnwixbLWpoz"
      },
      "id": "ndnwixbLWpoz"
    },
    {
      "cell_type": "code",
      "execution_count": 16,
      "metadata": {
        "id": "W1Ml_OI9Wpo0",
        "outputId": "b282ce4a-4ab5-4a5d-aa6b-a00e9f9c441e",
        "colab": {
          "base_uri": "https://localhost:8080/",
          "height": 472
        }
      },
      "outputs": [
        {
          "output_type": "display_data",
          "data": {
            "text/plain": [
              "<Figure size 640x480 with 1 Axes>"
            ],
            "image/png": "[encoded data removed]"
          },
          "metadata": {}
        }
      ],
      "source": [
        "!g++ -O3 sum-bench.cpp -o sum-bench        # コンパイル\n",
        "!./sum-bench > sum-bench3.csv 2> /dev/null # 実行\n",
        "\n",
        "load_and_plot(\"sum-bench3.csv\")"
      ],
      "id": "W1Ml_OI9Wpo0"
    },
    {
      "cell_type": "markdown",
      "source": [
        "オプションの意味は次のとおり。\n",
        "\n",
        "-   `-O3`：最適化レベル3\n",
        "-   `-o sum-bench`：出力ファイル名\n",
        "-   `2> /dev/null`：標準エラー出力を捨てる。\n",
        "\n",
        "修正のヒント：`f(n)`の結果を標準エラー出力に出力してみる。\n",
        "\n",
        "**劇的に速くはなるが，その効果は高々定数倍である。**"
      ],
      "metadata": {
        "id": "tPWrdL-1Wpo0"
      },
      "id": "tPWrdL-1Wpo0"
    },
    {
      "cell_type": "markdown",
      "source": [
        "##### Clang"
      ],
      "metadata": {
        "id": "me2ugvghWpo0"
      },
      "id": "me2ugvghWpo0"
    },
    {
      "cell_type": "markdown",
      "source": [
        "\n",
        "Clangを試す。"
      ],
      "metadata": {
        "id": "LWaHTQeSWpo0"
      },
      "id": "LWaHTQeSWpo0"
    },
    {
      "cell_type": "code",
      "execution_count": 14,
      "metadata": {
        "id": "29dqwWQHWpo0",
        "outputId": "54fd8bed-c4b3-418d-aa59-ebe286d29d64",
        "colab": {
          "base_uri": "https://localhost:8080/",
          "height": 472
        }
      },
      "outputs": [
        {
          "output_type": "display_data",
          "data": {
            "text/plain": [
              "<Figure size 640x480 with 1 Axes>"
            ],
            "image/png": "[encoded data removed]"
          },
          "metadata": {}
        }
      ],
      "source": [
        "!clang++ -O3 -std=c++17 sum-bench.cpp -o sum-bench2 # コンパイル（C++17の機能を使う）\n",
        "!./sum-bench2 > sum-bench4.csv 2> /dev/null         # 実行\n",
        "\n",
        "load_and_plot(\"sum-bench4.csv\")"
      ],
      "id": "29dqwWQHWpo0"
    },
    {
      "cell_type": "markdown",
      "source": [
        "考察のヒント：現実的なアルゴリズムの解析にはアセンブリコードが必要である。\n",
        "\n",
        "手軽な方法 → [Compiler Explorer](https://godbolt.org/z/TvK1r7M71)\n",
        "\n",
        "アセンブリコードが読めない場合は，次のようにAIを使えばよい。\n",
        "\n",
        "> 各行にコメントを付けて解説して。<br>\n",
        "> （ここにアセンブリコードを貼り付ける。）\n",
        "\n",
        "（結果は割愛）\n",
        "\n",
        "結局のところ，$n(n+1)/2$ を計算していることがわかる。\n",
        "\n",
        "自分で試す場合：コンパイルしてアセンブリコードを生成する。"
      ],
      "metadata": {
        "id": "cMFGvHAVWpo0"
      },
      "id": "cMFGvHAVWpo0"
    },
    {
      "cell_type": "code",
      "execution_count": null,
      "metadata": {
        "id": "E1cCJNqVWpo0"
      },
      "outputs": [],
      "source": [
        "%%writefile sum.cpp\n",
        "long long f(int n) {\n",
        "  long long s = 0;\n",
        "  for (int i = 1; i <= n; ++i) {\n",
        "    s += i;\n",
        "  }\n",
        "  return s;\n",
        "}"
      ],
      "id": "E1cCJNqVWpo0"
    },
    {
      "cell_type": "code",
      "execution_count": null,
      "metadata": {
        "id": "xzWQXLLzWpo0"
      },
      "outputs": [],
      "source": [
        "!clang++ -O3 -S sum.cpp # -Sでアセンブリコードを生成する。\n",
        "!cat sum.s"
      ],
      "id": "xzWQXLLzWpo0"
    },
    {
      "cell_type": "markdown",
      "source": [
        "♠いつもこういう最適化が行われるわけではない。参照：https://godbolt.org/z/acm19\\_sum\\_fail\n",
        "\n",
        "参照：[最近のコンパイラの最適化技法](https://www.s2factory.co.jp/blog/compiler/)"
      ],
      "metadata": {
        "id": "cxTikN9pWpo1"
      },
      "id": "cxTikN9pWpo1"
    },
    {
      "cell_type": "markdown",
      "source": [
        "##### ♠♠MMIX"
      ],
      "metadata": {
        "id": "arNeMOw-Wpo1"
      },
      "id": "arNeMOw-Wpo1"
    },
    {
      "cell_type": "markdown",
      "source": [
        "\n",
        "実機での実行時間を正確に調べるためにはアセンブリコードを確認する必要があることがわかった。\n",
        "\n",
        "そういうわけでTAOCPでは，MMIXという仮想的な計算機とそのアセンブリ言語MMIXALを用いた解析が行われる。この先の講義ではアセンブリコードの確認をすることはないのだが，参考までに，MMIXALのコードを確認する方法を紹介しておく。\n",
        "\n",
        "参照：[MMIX Documentation, Sources, Binaries, Examples, Links, Projects, Proposals](https://mmix.cs.hm.edu/)"
      ],
      "metadata": {
        "id": "LE-ORkPlWpo1"
      },
      "id": "LE-ORkPlWpo1"
    },
    {
      "cell_type": "code",
      "execution_count": null,
      "metadata": {
        "id": "gv3dKuw2Wpo1"
      },
      "outputs": [],
      "source": [
        "!wget https://mmix.cs.hm.edu/bin/optmmix-2011-5-6.tgz # コンパイラのダウンロード\n",
        "!tar xzf optmmix-2011-5-6.tgz                         # 展開"
      ],
      "id": "gv3dKuw2Wpo1"
    },
    {
      "cell_type": "code",
      "execution_count": null,
      "metadata": {
        "id": "ZBTBxjbcWpo1"
      },
      "outputs": [],
      "source": [
        "!/content/opt/mmix/bin/mmix-g++ -O3 -S sum.cpp # コンパイル\n",
        "!cat sum.s"
      ],
      "id": "ZBTBxjbcWpo1"
    },
    {
      "cell_type": "markdown",
      "source": [
        "> 各行にコメントを付けて解説して。<br>\n",
        "> （ここにアセンブリコードを貼り付ける。）\n",
        "\n",
        "実行してみたい場合は，エミュレータを使う。"
      ],
      "metadata": {
        "id": "pBymqndpWpo1"
      },
      "id": "pBymqndpWpo1"
    },
    {
      "cell_type": "code",
      "execution_count": null,
      "metadata": {
        "id": "FyQ0i0JTWpo2"
      },
      "outputs": [],
      "source": [
        "!wget https://mmix.cs.hm.edu/bin/mmix            # MMIXのエミュレータ\n",
        "!chmod +x mmix                                   # 実行権限付与"
      ],
      "id": "FyQ0i0JTWpo2"
    },
    {
      "cell_type": "markdown",
      "source": [
        "関数`main`を用意する。"
      ],
      "metadata": {
        "id": "9AMzufK2Wpo2"
      },
      "id": "9AMzufK2Wpo2"
    },
    {
      "cell_type": "code",
      "execution_count": null,
      "metadata": {
        "id": "3DR_J2iKWpo2"
      },
      "outputs": [],
      "source": [
        "%%writefile test.cpp\n",
        "#include <iostream>\n",
        "\n",
        "long long f(int n);\n",
        "\n",
        "int main() {\n",
        "  std::cout << f(10) << std::endl;\n",
        "  return 0;\n",
        "}"
      ],
      "id": "3DR_J2iKWpo2"
    },
    {
      "cell_type": "markdown",
      "source": [
        "コンパイルして実行する。"
      ],
      "metadata": {
        "id": "MiS6kD4mWpo2"
      },
      "id": "MiS6kD4mWpo2"
    },
    {
      "cell_type": "code",
      "execution_count": null,
      "metadata": {
        "id": "i1wGywKzWpo2"
      },
      "outputs": [],
      "source": [
        "!/content/opt/mmix/bin/mmix-g++ test.cpp sum.cpp # コンパイル\n",
        "!./mmix a.out                                    # 実行"
      ],
      "id": "i1wGywKzWpo2"
    },
    {
      "cell_type": "markdown",
      "source": [
        "### 計算量（反省）"
      ],
      "metadata": {
        "id": "QB7qAe4sWpo2"
      },
      "id": "QB7qAe4sWpo2"
    },
    {
      "cell_type": "markdown",
      "source": [
        "\n",
        "$$1+2+\\dots+n=\\frac{n(n+1)}{2}$$\n",
        "\n",
        "-   左辺を素直に計算する場合の計算量は $O(n)$？\n",
        "-   右辺を計算する場合（加算・乗算・除算を各1回）の計算量は $O(1)$？\n",
        "\n",
        "$n$ が大きい場合（$10^{10^1}, 10^{10^2}, \\dots, 10^{10^7}$）の，右辺の実行時間を計る。（結果の1列目は $\\log n$ つまり $10^1, 10^2, \\dots, 10^7$ とする。）"
      ],
      "metadata": {
        "id": "CF-fmUAQWpo2"
      },
      "id": "CF-fmUAQWpo2"
    },
    {
      "cell_type": "code",
      "execution_count": 17,
      "metadata": {
        "id": "nWaGz8msWpo2",
        "outputId": "bbcb3de4-3856-44bf-ec0b-a099a7c22aa8",
        "colab": {
          "base_uri": "https://localhost:8080/"
        }
      },
      "outputs": [
        {
          "output_type": "stream",
          "name": "stdout",
          "text": [
            "Writing sum-bench2.py\n"
          ]
        }
      ],
      "source": [
        "%%writefile sum-bench2.py\n",
        "import time\n",
        "import statistics\n",
        "\n",
        "def f(n):\n",
        "  return n * (n + 1) // 2\n",
        "\n",
        "def measure_execution_times():\n",
        "  results = []\n",
        "\n",
        "  for i in range(1, 8):\n",
        "    n = 10**(10**i)\n",
        "    times = []\n",
        "    start = time.perf_counter()\n",
        "    f(n)\n",
        "    end = time.perf_counter()\n",
        "    times.append(end - start)\n",
        "    mean_time = statistics.mean(times)\n",
        "    print(f\"{10**i},{mean_time:.6f}\")\n",
        "    results.append((n, mean_time))\n",
        "\n",
        "if __name__ == \"__main__\":\n",
        "  measure_execution_times()"
      ],
      "id": "nWaGz8msWpo2"
    },
    {
      "cell_type": "markdown",
      "source": [
        "実行する。"
      ],
      "metadata": {
        "id": "j04CuxUcWpo2"
      },
      "id": "j04CuxUcWpo2"
    },
    {
      "cell_type": "code",
      "execution_count": 18,
      "metadata": {
        "id": "AjPoh-8lWpo3"
      },
      "outputs": [],
      "source": [
        "!pypy3 sum-bench2.py > sum-bench5.csv"
      ],
      "id": "AjPoh-8lWpo3"
    },
    {
      "cell_type": "markdown",
      "source": [
        "結果を両対数で可視化する。"
      ],
      "metadata": {
        "id": "ABXRgwOFWpo3"
      },
      "id": "ABXRgwOFWpo3"
    },
    {
      "cell_type": "code",
      "execution_count": 19,
      "metadata": {
        "id": "LQUpT5-cWpo3",
        "outputId": "bf69a4c2-26cd-4a04-bd8a-7934dff3732b",
        "colab": {
          "base_uri": "https://localhost:8080/",
          "height": 476
        }
      },
      "outputs": [
        {
          "output_type": "display_data",
          "data": {
            "text/plain": [
              "<Figure size 640x480 with 1 Axes>"
            ],
            "image/png": "[encoded data removed]"
          },
          "metadata": {}
        }
      ],
      "source": [
        "def plot(ns, times):\n",
        "  plt.plot(ns, times, marker='o')\n",
        "  plt.xscale('log')  # x軸を対数スケールに\n",
        "  plt.yscale('log')  # y軸を対数スケールに\n",
        "  plt.title(\"Execution Time of f(n) vs log n\")\n",
        "  plt.xlabel(\"log(log n)\")\n",
        "  plt.ylabel(\"Execution Time (seconds, log scale)\")\n",
        "  plt.grid(True, which='both', linestyle='--', linewidth=0.5)\n",
        "  plt.show()\n",
        "\n",
        "load_and_plot(\"sum-bench5.csv\")"
      ],
      "id": "LQUpT5-cWpo3"
    },
    {
      "cell_type": "markdown",
      "source": [
        "加算が $O(\\log n)$，乗算が $O\\left((\\log n)^2\\right)$，$2$ での除算が $O(\\log n)$ だとすると，全体では $O\\left((\\log n)^2\\right)$ となる（一般の除算は遅い）。♠実は，乗算はもっと早くできる。TAOCP 4.3.3項「乗算をどこまで速くできるか」を参照。\n",
        "\n",
        "四則演算が $O(1)$ でないとすると，左辺の計算量も $O(n)$ とは言えなくなる。加算の計算量は**桁数**（$\\log$）に比例するから，計算量はおおよそ $O(\\log 1+\\log 2+\\dots+\\log n)=O(\\log n!)=O(n\\log n)$ である。最後の等号で**スターリングの公式**（$n!\\sim\\sqrt{2\\pi n}\\left(n/e\\right)^n$）を使った。$\\log n!\\sim n\\log n$ を覚えておくとよい。$a_n\\sim b_n$ は $\\displaystyle\\lim_{n\\to\\infty}\\frac{a_n}{b_n}=1$ のこと。\n",
        "\n",
        "左辺の計算量が $O(n\\log n)$ で，右辺の計算量が $O\\left((\\log n)^2\\right)$ だから，$n$ が大きいときもやはり，右辺で計算した方がよさそうである。"
      ],
      "metadata": {
        "id": "-Y7bGCEzWpo3"
      },
      "id": "-Y7bGCEzWpo3"
    },
    {
      "cell_type": "markdown",
      "source": [
        "### RAMモデル"
      ],
      "metadata": {
        "id": "IwXogPvvWpo3"
      },
      "id": "IwXogPvvWpo3"
    },
    {
      "cell_type": "markdown",
      "source": [
        "\n",
        "この講義ではRAMモデルを仮定する。そうすると，$1+\\dots+n$ の計算量は $O(n)$ になる。\n",
        "\n",
        "**RAMモデル**（Random Access Machineモデル）は，アルゴリズムの解析や計算量の評価に使われる理論的な計算モデルの一つ。特徴は次のとおり。\n",
        "\n",
        "1.  **逐次実行**: 命令は1つずつ順番に実行される。\n",
        "2.  **無限のメモリ**: メモリは無限に存在し，各セルには一意のアドレスがある。\n",
        "3.  **単位時間操作**: 基本的な演算（加算，減算，乗算，除算，比較，メモリアクセスなど）の計算量は $O(1)$。\n",
        "4.  **ランダムアクセス**: 任意のメモリセルに直接アクセスできる。"
      ],
      "metadata": {
        "id": "BO-NfzzIWpo3"
      },
      "id": "BO-NfzzIWpo3"
    },
    {
      "cell_type": "markdown",
      "source": [
        "### まとめ"
      ],
      "metadata": {
        "id": "-HtgFbR-Wpo3"
      },
      "id": "-HtgFbR-Wpo3"
    },
    {
      "cell_type": "markdown",
      "source": [
        "\n",
        "-   計算量を知りたい。\n",
        "-   コードから見積もる？　時間を計る？　いずれにしても，無視される定数，ライブラリやコンパイラの影響が大きく，「ケースバイケース」になる。$n$ が比較的小さい場合とそうでない場合で，計算の性質がまったく異なることもある。\n",
        "-   妥協の産物：RAMモデル"
      ],
      "metadata": {
        "id": "EbbQhqudWpo3"
      },
      "id": "EbbQhqudWpo3"
    },
    {
      "cell_type": "markdown",
      "source": [
        "## 2.2 問題とアルゴリズムの例"
      ],
      "metadata": {
        "id": "gTWMeMhRWpo4"
      },
      "id": "gTWMeMhRWpo4"
    },
    {
      "cell_type": "markdown",
      "source": [
        "\n",
        "教科書p.40の問題「Top 3」と似た問題を扱う。\n",
        "\n",
        "問題：[山の高さ](https://onlinejudge.u-aizu.ac.jp/challenges/search/titles/0001)\n",
        "\n",
        "**「降順に並べ替えて，先頭の3件を取り出す」** という方針（教科書p.40のAlgorithm 2）を試す。「並べ替え」がライブラリで簡単にできるという知識を活用するのである。"
      ],
      "metadata": {
        "id": "kJK0L-IwWpo4"
      },
      "id": "kJK0L-IwWpo4"
    },
    {
      "cell_type": "markdown",
      "source": [
        "### 要素技術の確認"
      ],
      "metadata": {
        "id": "2MmAl6ZCWpo4"
      },
      "id": "2MmAl6ZCWpo4"
    },
    {
      "cell_type": "markdown",
      "source": [
        "\n",
        "要素技術は次のとおり。\n",
        "\n",
        "1.  データの入力\n",
        "2.  （降順の）並べ替え\n",
        "3.  3件の抽出\n",
        "4.  データの最大値（最小値）\n",
        "\n",
        "Google Colabで一つずつ試す。[AtCodeのコードテスト](https://atcoder.jp/contests/APG4bPython/custom_test)を使ってもよい。"
      ],
      "metadata": {
        "id": "gvAIjmw2Wpo4"
      },
      "id": "gvAIjmw2Wpo4"
    },
    {
      "cell_type": "markdown",
      "source": [
        "#### データの入力"
      ],
      "metadata": {
        "id": "rvlAbMEhWpo4"
      },
      "id": "rvlAbMEhWpo4"
    },
    {
      "cell_type": "markdown",
      "source": [
        "\n",
        "データの入力は，次のようなコードで行う。"
      ],
      "metadata": {
        "id": "ktvu98TdWpo4"
      },
      "id": "ktvu98TdWpo4"
    },
    {
      "cell_type": "code",
      "execution_count": null,
      "metadata": {
        "id": "R56zcGAgWpo4"
      },
      "outputs": [],
      "source": [
        "%%writefile algo2.py\n",
        "import sys\n",
        "A = list(map(int, sys.stdin.read().split()))\n",
        "print(A) # 確認"
      ],
      "id": "R56zcGAgWpo4"
    },
    {
      "cell_type": "markdown",
      "source": [
        "データファイルを作る。"
      ],
      "metadata": {
        "id": "eBHUrcsxWpo5"
      },
      "id": "eBHUrcsxWpo5"
    },
    {
      "cell_type": "code",
      "execution_count": null,
      "metadata": {
        "id": "f2ixtEhxWpo5"
      },
      "outputs": [],
      "source": [
        "%%writefile input1.dat\n",
        "1819\n",
        "2003\n",
        "876\n",
        "2840\n",
        "1723\n",
        "1673\n",
        "3776\n",
        "2848\n",
        "1592\n",
        "922"
      ],
      "id": "f2ixtEhxWpo5"
    },
    {
      "cell_type": "code",
      "execution_count": null,
      "metadata": {
        "id": "34wah9yJWpo5"
      },
      "outputs": [],
      "source": [
        "%%writefile input2.dat\n",
        "100\n",
        "200\n",
        "300\n",
        "400\n",
        "500\n",
        "600\n",
        "700\n",
        "800\n",
        "900\n",
        "900"
      ],
      "id": "34wah9yJWpo5"
    },
    {
      "cell_type": "markdown",
      "source": [
        "動作を確認する。"
      ],
      "metadata": {
        "id": "TZZ8b4CMWpo5"
      },
      "id": "TZZ8b4CMWpo5"
    },
    {
      "cell_type": "code",
      "execution_count": null,
      "metadata": {
        "id": "f_DIGj8mWpo5"
      },
      "outputs": [],
      "source": [
        "!python3 algo2.py < input1.dat\n",
        "!python3 algo2.py < input2.dat"
      ],
      "id": "f_DIGj8mWpo5"
    },
    {
      "cell_type": "markdown",
      "source": [
        "#### 並べ替え"
      ],
      "metadata": {
        "id": "818l07kZWpo6"
      },
      "id": "818l07kZWpo6"
    },
    {
      "cell_type": "code",
      "execution_count": null,
      "metadata": {
        "id": "K_vRSpfSWpo6"
      },
      "outputs": [],
      "source": [
        "A = [3, 1, 4, 1, 5, 9, 2, 6, 5, 3]\n",
        "A.sort()\n",
        "print(A)"
      ],
      "id": "K_vRSpfSWpo6"
    },
    {
      "cell_type": "markdown",
      "source": [
        "#### 降順の並べ替え"
      ],
      "metadata": {
        "id": "rNvvZkUTWpo6"
      },
      "id": "rNvvZkUTWpo6"
    },
    {
      "cell_type": "markdown",
      "source": [
        "\n",
        "`reverse=True`を指定すると，降順（descending）に並べ替える。指定しなければ昇順（ascending）である。"
      ],
      "metadata": {
        "id": "NRySRUoyWpo6"
      },
      "id": "NRySRUoyWpo6"
    },
    {
      "cell_type": "code",
      "execution_count": null,
      "metadata": {
        "id": "ucYkNSGJWpo6"
      },
      "outputs": [],
      "source": [
        "A = [3, 1, 4, 1, 5, 9, 2, 6, 5, 3]\n",
        "A.sort(reverse=True)\n",
        "print(A)"
      ],
      "id": "ucYkNSGJWpo6"
    },
    {
      "cell_type": "markdown",
      "source": [
        "#### 3件の抽出"
      ],
      "metadata": {
        "id": "YgtPwitbWpo6"
      },
      "id": "YgtPwitbWpo6"
    },
    {
      "cell_type": "markdown",
      "source": [
        "\n",
        "リストから先頭の3件を取り出す。"
      ],
      "metadata": {
        "id": "wWLnlWojWpo6"
      },
      "id": "wWLnlWojWpo6"
    },
    {
      "cell_type": "code",
      "execution_count": null,
      "metadata": {
        "id": "VhtfKHaUWpo6"
      },
      "outputs": [],
      "source": [
        "A = [3, 1, 4, 1, 5, 9, 2, 6, 5, 3]\n",
        "print(A[:3])"
      ],
      "id": "VhtfKHaUWpo6"
    },
    {
      "cell_type": "markdown",
      "source": [
        "#### データの最大値（最小値）"
      ],
      "metadata": {
        "id": "5V7g0uqKWpo6"
      },
      "id": "5V7g0uqKWpo6"
    },
    {
      "cell_type": "markdown",
      "source": [
        "\n",
        "このテクニックは，最初（Algorithm 2）では使わないが，後で（Algorithm 4）で使うから，ここで確認しておく。\n",
        "\n",
        "単純な場合は`max`（`min`）でよい。"
      ],
      "metadata": {
        "id": "T9havLnQWpo6"
      },
      "id": "T9havLnQWpo6"
    },
    {
      "cell_type": "code",
      "execution_count": null,
      "metadata": {
        "id": "pxZjErxSWpo7"
      },
      "outputs": [],
      "source": [
        "A = [3, 1, 4, 1, 5, 9, 2]\n",
        "m = max(A)\n",
        "print(m)"
      ],
      "id": "pxZjErxSWpo7"
    },
    {
      "cell_type": "markdown",
      "source": [
        "走査しながら求める。"
      ],
      "metadata": {
        "id": "Eqqe7aEUWpo7"
      },
      "id": "Eqqe7aEUWpo7"
    },
    {
      "cell_type": "code",
      "execution_count": null,
      "metadata": {
        "id": "NjYX3GkSWpo7"
      },
      "outputs": [],
      "source": [
        "A = [3, 1, 4, 1, 5, 9, 2]\n",
        "m = A[0] # 最大値（暫定）の初期値\n",
        "for x in A:\n",
        "  if x > m: m = x # 最大値の更新\n",
        "print(m)"
      ],
      "id": "NjYX3GkSWpo7"
    },
    {
      "cell_type": "markdown",
      "source": [
        "局所的に`max`を使うと，見やすくなる。"
      ],
      "metadata": {
        "id": "cHoxWYlVWpo7"
      },
      "id": "cHoxWYlVWpo7"
    },
    {
      "cell_type": "code",
      "execution_count": null,
      "metadata": {
        "id": "XJexaS18Wpo7"
      },
      "outputs": [],
      "source": [
        "A = [3, 1, 4, 1, 5, 9, 2]\n",
        "m = A[0] # 最大値（暫定）の初期値\n",
        "for x in A: m = max(m, x) # 最大値の更新\n",
        "print(m)"
      ],
      "id": "XJexaS18Wpo7"
    },
    {
      "cell_type": "markdown",
      "source": [
        "### 完成"
      ],
      "metadata": {
        "id": "XdYmoe55Wpo7"
      },
      "id": "XdYmoe55Wpo7"
    },
    {
      "cell_type": "markdown",
      "source": [
        "\n",
        "以上をまとめて，次のようなプログラムを作る。\n",
        "\n",
        "    データを入力し，整数に変換する。\n",
        "    データを降順で並べ替える。\n",
        "    先頭の3件を表示する。\n",
        "\n",
        "コードを書いて試してみる。"
      ],
      "metadata": {
        "id": "OYImFgIvWpo7"
      },
      "id": "OYImFgIvWpo7"
    },
    {
      "cell_type": "code",
      "execution_count": null,
      "metadata": {
        "id": "PZ9nSYrPWpo7"
      },
      "outputs": [],
      "source": [
        "%%writefile algo2.py\n",
        "A = list(map(int, sys.stdin.read().split()))\n",
        "# 自分で書いてみる。"
      ],
      "id": "PZ9nSYrPWpo7"
    },
    {
      "cell_type": "markdown",
      "source": [
        "実行する。"
      ],
      "metadata": {
        "id": "7LTesBMsWpo7"
      },
      "id": "7LTesBMsWpo7"
    },
    {
      "cell_type": "code",
      "execution_count": null,
      "metadata": {
        "id": "eVY6yC2_Wpo8"
      },
      "outputs": [],
      "source": [
        "!python3 algo2.py < input1.dat\n",
        "!python3 algo2.py < input2.dat"
      ],
      "id": "eVY6yC2_Wpo8"
    },
    {
      "cell_type": "markdown",
      "source": [
        "### 提出"
      ],
      "metadata": {
        "id": "duYIokqxWpo8"
      },
      "id": "duYIokqxWpo8"
    },
    {
      "cell_type": "markdown",
      "source": [
        "\n",
        "二つの入力例を試して，うまく行きそうだったら提出してみる。言語はPython3を使う。"
      ],
      "metadata": {
        "id": "HBxAohgeWpo8"
      },
      "id": "HBxAohgeWpo8"
    },
    {
      "cell_type": "markdown",
      "source": [
        "### ♠性能の調査"
      ],
      "metadata": {
        "id": "RVtAsbbyWpo8"
      },
      "id": "RVtAsbbyWpo8"
    },
    {
      "cell_type": "markdown",
      "source": [
        "\n",
        "教科書p.40には，この問題を解くための三つのアルゴリズムが掲載されている。先に試したのは，そのAlgorithm 2である。気になることはいろいろある。例を挙げる。\n",
        "\n",
        "-   疑問1：Algorithm 1ではデータの走査を3回行う。1回の走査で済ませられるのではないか。\n",
        "-   疑問2：Algorithm 2では全データを並び替える。知りたいのは上位3件だけだから，全部を並び替える方法は遅いのではないか。\n",
        "-   疑問3：Algorithm 3では全データをメモリに格納している（他のアルゴリズムも同様）。データを入力しながら集計すれば，メモリを節約できるのではないか。\n",
        "\n",
        "Algorithm 4として，疑問1を考慮したアルゴリズムを考える（詳細は後のコードを参照）。\n",
        "\n",
        "アルゴリズムと性能の関係は，データが少ない場合と多い場合で異なる。そこで，次の二つのシナリオで，Algorithm 2とAlgorithm 4を比較する。Algorithm 1と3については，自分で調べてみるとよいだろう。（Algorithm 3の考え方に7.4節で再会する。）\n",
        "\n",
        "-   シナリオ1：10件のデータでの実験を3000000回行う。\n",
        "-   シナリオ2：1千万件での実験を1回行う。"
      ],
      "metadata": {
        "id": "3IGmlOMfWpo8"
      },
      "id": "3IGmlOMfWpo8"
    },
    {
      "cell_type": "markdown",
      "source": [
        "#### 準備"
      ],
      "metadata": {
        "id": "-2_SKV9eWpo8"
      },
      "id": "-2_SKV9eWpo8"
    },
    {
      "cell_type": "markdown",
      "source": [
        "\n",
        "乱数の作り方を確認する。"
      ],
      "metadata": {
        "id": "84oEF1ddWpo9"
      },
      "id": "84oEF1ddWpo9"
    },
    {
      "cell_type": "code",
      "execution_count": null,
      "metadata": {
        "id": "qRZTYM8LWpo9"
      },
      "outputs": [],
      "source": [
        "import random\n",
        "random.choices(range(6), k=10)"
      ],
      "id": "qRZTYM8LWpo9"
    },
    {
      "cell_type": "markdown",
      "source": [
        "「0以上`r`未満の乱数を`n`個作って関数`f`で処理する」という実験を`m`回行い，`f`の実行時間を計る関数`benchmark`を作る。"
      ],
      "metadata": {
        "id": "S0MY76dHWpo9"
      },
      "id": "S0MY76dHWpo9"
    },
    {
      "cell_type": "code",
      "execution_count": null,
      "metadata": {
        "id": "L1bNT9SjWpo9"
      },
      "outputs": [],
      "source": [
        "import time\n",
        "\n",
        "def benchmark(f, n, m, r):\n",
        "  total_time = 0\n",
        "  for _ in range(m):\n",
        "    A = random.choices(range(r), k=n)\n",
        "    start = time.perf_counter()\n",
        "    f(A)\n",
        "    end = time.perf_counter()\n",
        "    total_time += end - start\n",
        "  return total_time"
      ],
      "id": "L1bNT9SjWpo9"
    },
    {
      "cell_type": "markdown",
      "source": [
        "#### シナリオ1"
      ],
      "metadata": {
        "id": "4jpXjg1_Wpo9"
      },
      "id": "4jpXjg1_Wpo9"
    },
    {
      "cell_type": "markdown",
      "source": [
        "\n",
        "10件のデータでの実験を3000000回行う。\n",
        "\n",
        "Algorithm 2の実行時間を計る。セル全体の実行時間を`%%time`で，関数の実行時間を`benchmark`で計る。"
      ],
      "metadata": {
        "id": "99ZaqNhJWpo9"
      },
      "id": "99ZaqNhJWpo9"
    },
    {
      "cell_type": "code",
      "execution_count": null,
      "metadata": {
        "id": "6keMDj5wWpo9"
      },
      "outputs": [],
      "source": [
        "%%time\n",
        "def algo2(A):\n",
        "  A.sort(reverse=True)\n",
        "  return A[:3]\n",
        "\n",
        "print(benchmark(algo2, 10, 3000000, 10001))"
      ],
      "id": "6keMDj5wWpo9"
    },
    {
      "cell_type": "markdown",
      "source": [
        "Algorithm 4の実行時間を計る。"
      ],
      "metadata": {
        "id": "vQ5YOl8uWpo9"
      },
      "id": "vQ5YOl8uWpo9"
    },
    {
      "cell_type": "code",
      "execution_count": null,
      "metadata": {
        "id": "okp5zZpIWpo9"
      },
      "outputs": [],
      "source": [
        "%%time\n",
        "def algo4(A):\n",
        "  top1, top2, top3 = -1, -1, -1\n",
        "  for x in A:\n",
        "    if top1 < x:\n",
        "      top1, top2, top3 = x, top1, top2\n",
        "    elif top2 < x:\n",
        "      top2, top3 = x, top2\n",
        "    elif top3 < x:\n",
        "      top3 = x\n",
        "  return top1, top2, top3\n",
        "\n",
        "print(benchmark(algo4, 10, 3000000, 10001))"
      ],
      "id": "okp5zZpIWpo9"
    },
    {
      "cell_type": "markdown",
      "source": [
        "先の疑問2について，考察できることはあるか。ヒント：並べ替えの計算量は $O(n\\log n)$ だということが知られている。Algorithm 4の計算量は $O(n)$ である。"
      ],
      "metadata": {
        "id": "iPF1HAZ-Wpo-"
      },
      "id": "iPF1HAZ-Wpo-"
    },
    {
      "cell_type": "markdown",
      "source": [
        "#### シナリオ2"
      ],
      "metadata": {
        "id": "9XGj-CBcWpo-"
      },
      "id": "9XGj-CBcWpo-"
    },
    {
      "cell_type": "markdown",
      "source": [
        "\n",
        "1千万件での実験を1回行う。\n",
        "\n",
        "Algorithm 2の実行時間を測る。"
      ],
      "metadata": {
        "id": "V4It3Hi4Wpo-"
      },
      "id": "V4It3Hi4Wpo-"
    },
    {
      "cell_type": "code",
      "execution_count": null,
      "metadata": {
        "id": "FSdaNsQtWpo-"
      },
      "outputs": [],
      "source": [
        "%%time\n",
        "print(benchmark(algo2, 10**7, 1, 10001))"
      ],
      "id": "FSdaNsQtWpo-"
    },
    {
      "cell_type": "markdown",
      "source": [
        "Algorithm 4の実行時間を測る。"
      ],
      "metadata": {
        "id": "b6tVoV8CWpo-"
      },
      "id": "b6tVoV8CWpo-"
    },
    {
      "cell_type": "code",
      "execution_count": null,
      "metadata": {
        "id": "2m-KBNRVWpo-"
      },
      "outputs": [],
      "source": [
        "%%time\n",
        "print(benchmark(algo4, 10**7, 1, 10001))"
      ],
      "id": "2m-KBNRVWpo-"
    },
    {
      "cell_type": "markdown",
      "source": [
        "先の疑問2について，考察できることはあるか。"
      ],
      "metadata": {
        "id": "bXxxhQKdWpo-"
      },
      "id": "bXxxhQKdWpo-"
    },
    {
      "cell_type": "markdown",
      "source": [
        "#### ♠C++"
      ],
      "metadata": {
        "id": "nXLprZ_pWpo_"
      },
      "id": "nXLprZ_pWpo_"
    },
    {
      "cell_type": "markdown",
      "source": [
        "\n",
        "次のようなプロンプトで，C++のコードを生成する。\n",
        "\n",
        "> C++に翻訳して。ただし，n, m, rはコマンド引数で指定できるようにして。<br>\n",
        "> （ここにPythonのコードを貼り付ける。）\n",
        "\n",
        "生成されるコードの例"
      ],
      "metadata": {
        "id": "1GNmagUuWpo_"
      },
      "id": "1GNmagUuWpo_"
    },
    {
      "cell_type": "code",
      "execution_count": null,
      "metadata": {
        "id": "-MaJFuOZWpo_"
      },
      "outputs": [],
      "source": [
        "%%writefile benchmark.cpp\n",
        "#include <iostream>\n",
        "#include <vector>\n",
        "#include <random>\n",
        "#include <chrono>\n",
        "#include <algorithm>\n",
        "\n",
        "using namespace std;\n",
        "using namespace chrono;\n",
        "\n",
        "// ベンチマーク関数\n",
        "double benchmark(std::vector<int> (*f)(const vector<int>&), int n, int m, int r) {\n",
        "    random_device rd;\n",
        "    mt19937 gen(rd());\n",
        "    uniform_int_distribution<int> dist(0, r - 1);\n",
        "\n",
        "    double total_time = 0.0;\n",
        "\n",
        "    for (int i = 0; i < m; ++i) {\n",
        "        vector<int> A(n);\n",
        "        for (int& x : A) x = dist(gen); // ランダムな配列を生成\n",
        "\n",
        "        auto start = high_resolution_clock::now(); // 計測開始\n",
        "        f(A);  // 関数fを実行\n",
        "        auto end = high_resolution_clock::now();   // 計測終了\n",
        "\n",
        "        total_time += duration<double>(end - start).count(); // 秒単位の時間を加算\n",
        "    }\n",
        "\n",
        "    return total_time;\n",
        "}\n",
        "\n",
        "// 上位3つの要素を持つ新しいベクターを返す (algo2)\n",
        "vector<int> algo2(const vector<int>& A) {\n",
        "    vector<int> result = A;  // 元のベクターをコピー\n",
        "    sort(result.begin(), result.end(), greater<int>());\n",
        "    return {result[0], result[1], result[2]};  // 上位3つを新しいベクターで返す\n",
        "}\n",
        "\n",
        "// 上位3つの要素を持つ新しいベクターを返す (algo4)\n",
        "vector<int> algo4(const vector<int>& A) {\n",
        "    int top1 = -1, top2 = -1, top3 = -1;\n",
        "\n",
        "    for (int x : A) {\n",
        "        if (x > top1) {\n",
        "            top3 = top2;\n",
        "            top2 = top1;\n",
        "            top1 = x;\n",
        "        } else if (x > top2) {\n",
        "            top3 = top2;\n",
        "            top2 = x;\n",
        "        } else if (x > top3) {\n",
        "            top3 = x;\n",
        "        }\n",
        "    }\n",
        "\n",
        "    // 結果を新しいベクターとして返す\n",
        "    return {top1, top2, top3};\n",
        "}\n",
        "\n",
        "int main(int argc, char* argv[]) {\n",
        "    if (argc < 4) {\n",
        "        cerr << \"Usage: \" << argv[0] << \" <n> <m> <r>\" << endl;\n",
        "        return 1;\n",
        "    }\n",
        "\n",
        "    // コマンドライン引数を整数に変換\n",
        "    int n = stoi(argv[1]);\n",
        "    int m = stoi(argv[2]);\n",
        "    int r = stoi(argv[3]);\n",
        "\n",
        "    // algo2 をベンチマーク\n",
        "    double result_algo2 = benchmark(algo2, n, m, r);\n",
        "    cout << \"Total time for algo2: \" << result_algo2 << \" seconds\" << endl;\n",
        "\n",
        "    // algo4 をベンチマーク\n",
        "    double result_algo4 = benchmark(algo4, n, m, r);\n",
        "    cout << \"Total time for algo4: \" << result_algo4 << \" seconds\" << endl;\n",
        "\n",
        "    return 0;\n",
        "}"
      ],
      "id": "-MaJFuOZWpo_"
    },
    {
      "cell_type": "markdown",
      "source": [
        "コンパイルして実行する。"
      ],
      "metadata": {
        "id": "Fgbj-v_UWpo_"
      },
      "id": "Fgbj-v_UWpo_"
    },
    {
      "cell_type": "code",
      "execution_count": null,
      "metadata": {
        "id": "WFQc-GeqWpo_"
      },
      "outputs": [],
      "source": [
        "!g++ -O3 benchmark.cpp -o benchmark\n",
        "!echo シナリオ1\n",
        "!./benchmark 10 3000000 10001\n",
        "!echo シナリオ2\n",
        "!./benchmark 10000000 1 10001"
      ],
      "id": "WFQc-GeqWpo_"
    },
    {
      "cell_type": "markdown",
      "source": [
        "先の疑問2について，考察できることはあるか。"
      ],
      "metadata": {
        "id": "xVu4kbuIWpo_"
      },
      "id": "xVu4kbuIWpo_"
    },
    {
      "cell_type": "markdown",
      "source": [
        "## 2.5 導入問題"
      ],
      "metadata": {
        "id": "afak5DotWppA"
      },
      "id": "afak5DotWppA"
    },
    {
      "cell_type": "markdown",
      "source": [
        "\n",
        "問題：[ALDS1\\_1\\_D](https://onlinejudge.u-aizu.ac.jp/courses/lesson/1/ALDS1/1/ALDS1_1_D) （最大の利益）\n",
        "\n",
        "問題と「一般解説」を読んでから先に進む。教科書の図も理解の助けになるだろう。"
      ],
      "metadata": {
        "id": "565lzimsWppA"
      },
      "id": "565lzimsWppA"
    },
    {
      "cell_type": "markdown",
      "source": [
        "### 実践"
      ],
      "metadata": {
        "id": "FGTkzrBFWppA"
      },
      "id": "FGTkzrBFWppA"
    },
    {
      "cell_type": "markdown",
      "source": [
        "\n",
        "入力例を作る。"
      ],
      "metadata": {
        "id": "ep7DWSkAWppA"
      },
      "id": "ep7DWSkAWppA"
    },
    {
      "cell_type": "code",
      "execution_count": null,
      "metadata": {
        "id": "FSrWTAWMWppA"
      },
      "outputs": [],
      "source": [
        "%%writefile input_fx1.dat\n",
        "6\n",
        "5\n",
        "3\n",
        "1\n",
        "3\n",
        "4\n",
        "3"
      ],
      "id": "FSrWTAWMWppA"
    },
    {
      "cell_type": "code",
      "execution_count": null,
      "metadata": {
        "id": "81tI9skjWppA"
      },
      "outputs": [],
      "source": [
        "%%writefile input_fx2.dat\n",
        "3\n",
        "4\n",
        "3\n",
        "2"
      ],
      "id": "81tI9skjWppA"
    },
    {
      "cell_type": "markdown",
      "source": [
        "教科書p.48のコードで，入力例に対応できることを確認する。\n",
        "\n",
        "**擬似コードをPythonに翻訳するとき，「`for j が 1 から n-1 まで`」は「`for j in range(1, n)`」であることに注意。**"
      ],
      "metadata": {
        "id": "V41iIqSiWppA"
      },
      "id": "V41iIqSiWppA"
    },
    {
      "cell_type": "code",
      "execution_count": null,
      "metadata": {
        "id": "lR5_uwuFWppA"
      },
      "outputs": [],
      "source": [
        "%%writefile algo_fx1.py\n",
        "n = int(input())\n",
        "R = [int(input()) for _ in range(n)]\n",
        "\n",
        "maxv = R[1] - R[0] # 最大利益（最初の2回で初期値を作る）\n",
        "minv = R[0]        # 価格の最小値\n",
        "\n",
        "for j in range(1, n):   # jは1からn-1まで\n",
        "  for i in range(0, j): # iは0からj-1まで\n",
        "    maxv = max(maxv, R[j] - R[i])\n",
        "\n",
        "print(maxv)"
      ],
      "id": "lR5_uwuFWppA"
    },
    {
      "cell_type": "markdown",
      "source": [
        "動作確認"
      ],
      "metadata": {
        "id": "VsK31XWYWppB"
      },
      "id": "VsK31XWYWppB"
    },
    {
      "cell_type": "code",
      "execution_count": null,
      "metadata": {
        "id": "UTo5aFsiWppB"
      },
      "outputs": [],
      "source": [
        "!python3 algo_fx1.py < input_fx1.dat\n",
        "!python3 algo_fx1.py < input_fx2.dat"
      ],
      "id": "UTo5aFsiWppB"
    },
    {
      "cell_type": "markdown",
      "source": [
        "### 提出"
      ],
      "metadata": {
        "id": "f_LSyasxWppB"
      },
      "id": "f_LSyasxWppB"
    },
    {
      "cell_type": "markdown",
      "source": [
        "\n",
        "二つの入力例を試して，うまく行きそうだったら提出してみる。\n",
        "\n",
        "入力データが多くなるとTLE（Time Limit Exceeded）になる。原因：実装したアルゴリズムの計算量が $O(n^2)$ である。\n",
        "\n",
        "CPythonの代わりにPyPyやC++を使ってもTLEになるはず。定数倍の高速化ではない解決策が必要である。♠高速なコードは生成AIで作れるかもしれない。"
      ],
      "metadata": {
        "id": "5ONp0NUcWppB"
      },
      "id": "5ONp0NUcWppB"
    },
    {
      "cell_type": "code",
      "execution_count": null,
      "metadata": {
        "id": "ne7HL9jiWppB"
      },
      "outputs": [],
      "source": [
        "%%writefile algo_fx2.py\n",
        "n = int(input())\n",
        "R = [int(input()) for _ in range(n)]\n",
        "\n",
        "maxv = R[1] - R[0] # 最大利益（最初の2回で初期値を作る）\n",
        "minv = R[0]        # 価格の最小値\n",
        "\n",
        "for j in range(1, n):\n",
        "  maxv = max(maxv, R[j] - minv)  # 現在の価格と最小値との差で最大利益を更新\n",
        "  minv = min(minv, R[j])  # 最小値を更新\n",
        "\n",
        "print(maxv)"
      ],
      "id": "ne7HL9jiWppB"
    },
    {
      "cell_type": "markdown",
      "source": [
        "## 宿題"
      ],
      "metadata": {
        "id": "-QTMIjWpWppB"
      },
      "id": "-QTMIjWpWppB"
    },
    {
      "cell_type": "markdown",
      "source": [
        "\n",
        "以下の問題をAC（Accepted）にする。Pythonを使うこと。\n",
        "\n",
        "-   [山の高さ](https://onlinejudge.u-aizu.ac.jp/challenges/search/titles/0001)\n",
        "-   [ALDS1\\_1\\_D](https://onlinejudge.u-aizu.ac.jp/courses/lesson/1/ALDS1/1/ALDS1_1_D) （最大の利益）\n",
        "\n",
        "以上"
      ],
      "metadata": {
        "id": "cyzdqzqbWppC"
      },
      "id": "cyzdqzqbWppC"
    }
  ],
  "nbformat": 4,
  "nbformat_minor": 5,
  "metadata": {
    "colab": {
      "provenance": [],
      "toc_visible": true
    },
    "language_info": {
      "name": "python"
    },
    "kernelspec": {
      "name": "python3",
      "display_name": "Python 3"
    }
  }
}